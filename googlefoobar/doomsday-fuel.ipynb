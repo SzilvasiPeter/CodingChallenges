{
 "cells": [
  {
   "cell_type": "markdown",
   "metadata": {},
   "source": [
    "For example, consider the matrix m:\\\n",
    "[\\\n",
    "  [0,1,0,0,0,1],  # s0, the initial state, goes to s1 and s5 with equal probability\\\n",
    "  [4,0,0,3,2,0],  # s1 can become s0, s3, or s4, but with different probabilities\\\n",
    "  [0,0,0,0,0,0],  # s2 is terminal, and unreachable (never observed in practice)\\\n",
    "  [0,0,0,0,0,0],  # s3 is terminal\\\n",
    "  [0,0,0,0,0,0],  # s4 is terminal\\\n",
    "  [0,0,0,0,0,0],  # s5 is terminal\\\n",
    "]\n",
    "\n",
    "So, we can consider different paths to terminal states, such as:\\\n",
    "s0 -> s1 -> s3\\\n",
    "s0 -> s1 -> s0 -> s1 -> s0 -> s1 -> s4\\\n",
    "s0 -> s1 -> s0 -> s5\n",
    "\n",
    "Tracing the probabilities of each, we find that\\\n",
    "s2 has probability 0\\\n",
    "s3 has probability 3/14\\\n",
    "s4 has probability 1/7\\\n",
    "s5 has probability 9/14\\\n",
    "So, putting that together, and making a common denominator, gives an answer in the form of\\\n",
    "[s2.numerator, s3.numerator, s4.numerator, s5.numerator, denominator] which is\\\n",
    "[0, 3, 2, 9, 14]."
   ]
  },
  {
   "cell_type": "markdown",
   "metadata": {},
   "source": [
    "![title](doomsday-fuel.png)"
   ]
  },
  {
   "cell_type": "markdown",
   "metadata": {},
   "source": [
    "I. $\\frac{1}{2} + \\frac{1}{2} \\frac{2}{9} + \\frac{1}{2} \\frac{3}{9} + 0$\n",
    "\n",
    "II. $(\\frac{1}{2} \\frac{4}{9})^1 \\frac{1}{2} + (\\frac{1}{2} \\frac{4}{9})^1 \\frac{1}{2} \\frac{2}{9} + (\\frac{1}{2} \\frac{4}{9})^1  \\frac{1}{2} \\frac{3}{9} + 0$\n",
    "\n",
    "III. $(\\frac{1}{2} \\frac{4}{9})^2 \\frac{1}{2} + (\\frac{1}{2} \\frac{4}{9})^2 \\frac{1}{2} \\frac{2}{9} + (\\frac{1}{2} \\frac{4}{9})^2 \\frac{1}{2} \\frac{3}{9} + 0$\n",
    "\n",
    "\n",
    "$\\sum_{n=0}^{\\infty} (\\frac{1}{2} \\frac{4}{9})^n * (\\frac{1}{2} + \\frac{1}{2} \\frac{2}{9} + \\frac{1}{2} \\frac{3}{9} + 0)$\n",
    "\n",
    "Finding The Sum of an Infinite Geometric Series: $\\frac{a_1}{1-r}$, where $a_1$ is the first element and $r$ is the ratio between the elements.\n",
    "\n",
    "$$\\frac{\\frac{14}{18}}{1- \\frac{4}{18}} = \\frac{14}{18} * \\frac{18}{14} = 1$$\n",
    "\n",
    "$$\\frac{1}{2} \\frac{18}{14} = \\frac{9}{14}$$\n",
    "$$\\frac{1}{2} \\frac{2}{9} \\frac{18}{14} = \\frac{2}{14}$$\n",
    "$$\\frac{1}{2} \\frac{3}{9} \\frac{18}{14} = \\frac{3}{14}$$\n",
    "\n",
    "The common denominator is 14.\n",
    "\n",
    "Ratios:\n",
    "\n",
    "s2: $\\frac{0}{14}$, s3: $\\frac{3}{14}$, s4: $\\frac{2}{14}$, s5: $\\frac{9}{14}$ --> [0, 3, 2, 9, 14]\n",
    "\n",
    "It does not matter if the graph contains cycle the sum of the Infinite Geometric Series will always add up to 1."
   ]
  },
  {
   "cell_type": "code",
   "execution_count": 33,
   "metadata": {},
   "outputs": [],
   "source": [
    "from fractions import Fraction\n",
    "from math import lcm\n",
    "\n",
    "def solution(matrix):\n",
    "    if len(matrix) == 1:\n",
    "        return [1, 1]\n",
    "\n",
    "    fractions = []\n",
    "    states = { key: [] for key in range(len(matrix)) }\n",
    "\n",
    "    for array_idx, sub_array in enumerate(matrix):\n",
    "        row_denominator = sum(sub_array)\n",
    "        \n",
    "        if row_denominator == 0:\n",
    "            if not states[array_idx]:\n",
    "                fractions.append(Fraction(0))\n",
    "            else:\n",
    "                probability = 1\n",
    "                for terminal_state in states[array_idx]:\n",
    "                    probability *= terminal_state\n",
    "                \n",
    "                fractions.append(probability)\n",
    "\n",
    "        for element_idx, element in enumerate(sub_array):\n",
    "            if element > 0 and element_idx > array_idx:\n",
    "                for state_probability in states[array_idx]: # Optimization bottleneck: 3 nested foor loop\n",
    "                    states[element_idx].append(state_probability)\n",
    "                states[element_idx].append(Fraction(element, row_denominator))\n",
    "\n",
    "    # If there is no cycle it will add up to 1.\n",
    "    fractions_sum = sum(fractions)\n",
    "    probabilities = [fraction/fractions_sum for fraction in fractions]\n",
    "    common_denominator = lcm(*(probability.denominator for probability in probabilities))\n",
    "    result = [(probability * common_denominator / probability.denominator).numerator for probability in probabilities]\n",
    "    result.append(common_denominator)\n",
    "\n",
    "    return result"
   ]
  },
  {
   "cell_type": "code",
   "execution_count": 34,
   "metadata": {},
   "outputs": [
    {
     "name": "stdout",
     "output_type": "stream",
     "text": [
      "[0, 3, 2, 9, 14]\n"
     ]
    }
   ],
   "source": [
    "from math import lcm\n",
    "input = [[0, 1, 0, 0, 0, 1],\n",
    "        [4, 0, 0, 3, 2, 0],\n",
    "        [0, 0, 0, 0, 0, 0],\n",
    "        [0, 0, 0, 0, 0, 0],\n",
    "        [0, 0, 0, 0, 0, 0],\n",
    "        [0, 0, 0, 0, 0, 0]]\n",
    "probabilities = solution(input)\n",
    "print(probabilities)"
   ]
  },
  {
   "cell_type": "code",
   "execution_count": 35,
   "metadata": {},
   "outputs": [],
   "source": [
    "# Case where state 0 itself is a terminal state\n",
    "assert(solution(\n",
    "    [\n",
    "        [0, 1, 0, 0, 0, 1],\n",
    "        [4, 0, 0, 3, 2, 0],\n",
    "        [0, 0, 0, 0, 0, 0],\n",
    "        [0, 0, 0, 0, 0, 0],\n",
    "        [0, 0, 0, 0, 0, 0],\n",
    "        [0, 0, 0, 0, 0, 0]\n",
    "    ]\n",
    ")) == [0, 3, 2, 9, 14]\n",
    "\n",
    "assert(solution(\n",
    "    [\n",
    "        [0],\n",
    "    ]\n",
    ")) == [1, 1]\n",
    "\n",
    "assert(solution(\n",
    "    [\n",
    "        [0, 2, 1, 0, 0],\n",
    "        [0, 0, 0, 3, 4],\n",
    "        [0, 0, 0, 0, 0],\n",
    "        [0, 0, 0, 0, 0],\n",
    "        [0, 0, 0, 0, 0],\n",
    "    ]\n",
    ")) == [7, 6, 8, 21]\n",
    "\n",
    "assert(solution(\n",
    "    [\n",
    "        [0, 1, 0, 0, 0, 1],\n",
    "        [4, 0, 0, 3, 2, 0],\n",
    "        [0, 0, 0, 0, 0, 0],\n",
    "        [0, 0, 0, 0, 0, 0],\n",
    "        [0, 0, 0, 0, 0, 0],\n",
    "        [0, 0, 0, 0, 0, 0],\n",
    "    ]\n",
    ")) == [0, 3, 2, 9, 14]"
   ]
  },
  {
   "cell_type": "markdown",
   "metadata": {},
   "source": [
    "Solution with matrices: https://gist.github.com/algomaster99/782b898177ca37bfbf955cec416bb6a4"
   ]
  },
  {
   "cell_type": "markdown",
   "metadata": {},
   "source": []
  }
 ],
 "metadata": {
  "kernelspec": {
   "display_name": "Python 3.9.10 64-bit",
   "language": "python",
   "name": "python3"
  },
  "language_info": {
   "codemirror_mode": {
    "name": "ipython",
    "version": 3
   },
   "file_extension": ".py",
   "mimetype": "text/x-python",
   "name": "python",
   "nbconvert_exporter": "python",
   "pygments_lexer": "ipython3",
   "version": "3.9.10"
  },
  "orig_nbformat": 4,
  "vscode": {
   "interpreter": {
    "hash": "fe9a959b20c1a11f0379d800fd04c0320f2dff6d2d0003a40f8f375949ccb47d"
   }
  }
 },
 "nbformat": 4,
 "nbformat_minor": 2
}
