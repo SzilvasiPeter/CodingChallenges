{
 "cells": [
  {
   "cell_type": "markdown",
   "metadata": {},
   "source": [
    "For example, consider the matrix m:\\\n",
    "[\\\n",
    "  [0,1,0,0,0,1],  # s0, the initial state, goes to s1 and s5 with equal probability\\\n",
    "  [4,0,0,3,2,0],  # s1 can become s0, s3, or s4, but with different probabilities\\\n",
    "  [0,0,0,0,0,0],  # s2 is terminal, and unreachable (never observed in practice)\\\n",
    "  [0,0,0,0,0,0],  # s3 is terminal\\\n",
    "  [0,0,0,0,0,0],  # s4 is terminal\\\n",
    "  [0,0,0,0,0,0],  # s5 is terminal\\\n",
    "]\n",
    "\n",
    "So, we can consider different paths to terminal states, such as:\\\n",
    "s0 -> s1 -> s3\\\n",
    "s0 -> s1 -> s0 -> s1 -> s0 -> s1 -> s4\\\n",
    "s0 -> s1 -> s0 -> s5\n",
    "\n",
    "Tracing the probabilities of each, we find that\\\n",
    "s2 has probability 0\\\n",
    "s3 has probability 3/14\\\n",
    "s4 has probability 1/7\\\n",
    "s5 has probability 9/14\\\n",
    "So, putting that together, and making a common denominator, gives an answer in the form of\\\n",
    "[s2.numerator, s3.numerator, s4.numerator, s5.numerator, denominator] which is\\\n",
    "[0, 3, 2, 9, 14]."
   ]
  },
  {
   "cell_type": "markdown",
   "metadata": {},
   "source": [
    "![title](doomsday-fuel.png)"
   ]
  },
  {
   "cell_type": "markdown",
   "metadata": {},
   "source": [
    "I. $\\frac{1}{2} + \\frac{1}{2} \\frac{2}{9} + \\frac{1}{2} \\frac{3}{9} + 0$\n",
    "\n",
    "II. $(\\frac{1}{2} \\frac{4}{9})^1 \\frac{1}{2} + (\\frac{1}{2} \\frac{4}{9})^1 \\frac{1}{2} \\frac{2}{9} + (\\frac{1}{2} \\frac{4}{9})^1  \\frac{1}{2} \\frac{3}{9} + 0$\n",
    "\n",
    "III. $(\\frac{1}{2} \\frac{4}{9})^2 \\frac{1}{2} + (\\frac{1}{2} \\frac{4}{9})^2 \\frac{1}{2} \\frac{2}{9} + (\\frac{1}{2} \\frac{4}{9})^2 \\frac{1}{2} \\frac{3}{9} + 0$\n",
    "\n",
    "\n",
    "$\\sum_{n=0}^{\\infty} (\\frac{1}{2} \\frac{4}{9})^n * (\\frac{1}{2} + \\frac{1}{2} \\frac{2}{9} + \\frac{1}{2} \\frac{3}{9} + 0)$\n",
    "\n",
    "Finding The Sum of an Infinite Geometric Series: $\\frac{a_1}{1-r}$, where $a_1$ is the first element and $r$ is the ratio between the elements.\n",
    "\n",
    "$$\\frac{\\frac{13}{18}}{1- \\frac{4}{18}} = \\frac{13}{18} * \\frac{18}{14} = \\frac{13}{14}$$\n",
    "\n",
    "The common denominator is 14.\n",
    "\n",
    "$$\\frac{1}{2} \\frac{18}{13} = \\frac{9}{13}$$\n",
    "$$\\frac{1}{2} \\frac{2}{9} \\frac{18}{13} = \\frac{2}{13}$$\n",
    "$$\\frac{1}{2} \\frac{3}{9} \\frac{18}{13} = \\frac{3}{13}$$\n",
    "\n",
    "The common denominator is 13.\n",
    "\n",
    "Ratios:\n",
    "\n",
    "s2: $\\frac{0}{14}$, s3: $\\frac{3}{14}$, s4: $\\frac{2}{14}$, s5: $\\frac{9}{14}$ --> [0, 3, 2, 9, 14]"
   ]
  },
  {
   "cell_type": "code",
   "execution_count": null,
   "metadata": {},
   "outputs": [],
   "source": [
    "# Loop until first row-1\n",
    "# 1. Store 0 rows into a set of tuples e.g: {(4, 0);(3,0)}\n",
    "# 2. If not 0 rows then\n",
    "# 2a. Check in set -> store key and probability in a dictionary of tuples e.g. [{'2':(3, 1/2)}]\n",
    "# 2b. Check in dict -> store key and probability in the dictionary e.g. [{'2':(3, 1/2)}, {'1':(3, 1/2), (4, 2/4)}, {'0':(1, 3/9), (2, 6/9)}]\n",
    "\n",
    "# Reverse dictionary and update the set of tuples\n",
    "# Calculate common denominator\n",
    "# Create result: [numerator1, numerator2, ..., denominator]"
   ]
  }
 ],
 "metadata": {
  "kernelspec": {
   "display_name": "Python 3.9.10 64-bit",
   "language": "python",
   "name": "python3"
  },
  "language_info": {
   "codemirror_mode": {
    "name": "ipython",
    "version": 3
   },
   "file_extension": ".py",
   "mimetype": "text/x-python",
   "name": "python",
   "nbconvert_exporter": "python",
   "pygments_lexer": "ipython3",
   "version": "3.9.10"
  },
  "orig_nbformat": 4,
  "vscode": {
   "interpreter": {
    "hash": "fe9a959b20c1a11f0379d800fd04c0320f2dff6d2d0003a40f8f375949ccb47d"
   }
  }
 },
 "nbformat": 4,
 "nbformat_minor": 2
}
